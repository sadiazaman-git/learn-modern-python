{
 "cells": [
  {
   "cell_type": "markdown",
   "id": "99e0f348",
   "metadata": {},
   "source": [
    "### 1. What is Python? What are the benefits of using Python?\n",
    "\n",
    "Python is a high-level, interpreted, general-purpose programming language. Being a general-purpose language, it can be used to build almost any type of application with the right tools/libraries. Additionally, python supports objects, modules, threads, exception-handling, and automatic memory management which help in modelling real-world problems and building applications to solve these problems."
   ]
  },
  {
   "cell_type": "markdown",
   "id": "7f762031",
   "metadata": {},
   "source": [
    "**Benefits of using Python:**\n",
    "* Python is a general-purpose programming language that has a simple, easy-to-learn syntax that emphasizes readability and therefore reduces the cost of program maintenance. Moreover, the language is capable of scripting, is completely open-source, and supports third-party packages encouraging modularity and code reuse.\n",
    "* Its high-level data structures, combined with dynamic typing and dynamic binding, attract a huge community of developers for\n",
    "Rapid Application Development and deployment."
   ]
  },
  {
   "cell_type": "markdown",
   "id": "66a33e2a",
   "metadata": {},
   "source": [
    "### What is dynamic binding in python?\n",
    "\n",
    "Dynamic binding in Python refers to the process by which the interpretation of a method or function call is determined at runtime, rather than at compile time. In Python, objects are dynamic and can change their properties and behaviors at runtime, which allows for dynamic binding.\n",
    "\n",
    "```\n",
    "class Animal:\n",
    "    def sound(self):\n",
    "        print(\"Animal makes a sound\")\n",
    "\n",
    "class Dog(Animal):\n",
    "    def sound(self):\n",
    "        print(\"Dog barks\")\n",
    "\n",
    "class Cat(Animal):\n",
    "    def sound(self):\n",
    "        print(\"Cat meows\")\n",
    "\n",
    "def make_sound(animal):\n",
    "    animal.sound()\n",
    "\n",
    "dog = Dog()\n",
    "cat = Cat()\n",
    "\n",
    "make_sound(dog)  # Output: Dog barks\n",
    "make_sound(cat)  # Output: Cat meows\n",
    "```\n",
    "\n",
    "In this example, the `make_sound()` function accepts an Animal object as an argument. When the `sound()` method is called on the animal object within the function, Python dynamically determines whether to use the `sound()` implementation defined in the Dog class or the Cat class based on the actual type of the object passed to the function.\n",
    "\n",
    "Dynamic binding in Python promotes flexibility and code reuse by allowing different objects to respond to method calls based on their individual implementations, rather than requiring explicit type declarations or static binding at compile time."
   ]
  },
  {
   "cell_type": "markdown",
   "id": "1020a819",
   "metadata": {},
   "source": [
    "### 2. What is a dynamically typed language?\n",
    "Before we understand a dynamically typed language, we should learn about what typing is. **Typing** refers to type-checking in programming languages. In a **strongly-typed** language, such as Python, \"1\" + 2 will result in a type error since these languages don't allow for \"type-coercion\" (implicit conversion of data types). On the other hand, a **weakly-typed** language, such as Javascript, will simply output \"12\" as result.\n",
    "\n",
    "Type-checking can be done at two stages:\n",
    "* Static - Data Types are checked before execution.\n",
    "* Dynamic * Data Types are checked during execution. Python is an interpreted language, executes each statement line by line and thus type-checking is done on the fly, during execution. Hence, Python is a Dynamically Typed Language.\n",
    "\n",
    "**Read more -** https://www.techtarget.com/whatis/definition/strongly-typed#:~:text=In%20computer%20programming%2C%20a%20programming,types%200f%20objects%20and%20variables"
   ]
  },
  {
   "cell_type": "markdown",
   "id": "95c0ba12",
   "metadata": {},
   "source": [
    "Python is often described as a strongly typed language, but with dynamic typing. Let's break down what this means:\n",
    "\n",
    "1. **Strongly Typed**: Python is considered strongly typed because it enforces strict data typing, meaning that the type of a variable is enforced at runtime and operations on variables are restricted by their data type. For example, you cannot add an integer to a string without explicitly converting one of the operands to the appropriate type.\n",
    "\n",
    "2. **Dynamic Typing**: Python is dynamically typed, which means that variables are bound to objects dynamically at runtime. Unlike statically typed languages where variable types are determined at compile-time and cannot change, Python allows variables to refer to objects of any type and can change the type of a variable during execution."
   ]
  },
  {
   "cell_type": "markdown",
   "id": "bbd07d85",
   "metadata": {},
   "source": [
    "### 3. What is an Interpreted language?\n",
    "\n",
    "An Interpreted language executes its statements line by line. Languages such as Python, Javascript, R, PHP, and Ruby are prime examples of Interpreted languages. Programs written in an interpreted language runs directly from the source code, with no intermediary compilation step.\n",
    "\n",
    "https://www.baeldung.com/cs/compiled-vs-interpreted-languages"
   ]
  },
  {
   "cell_type": "markdown",
   "id": "5079081b",
   "metadata": {},
   "source": [
    "```\n",
    "Compiler                                                     Interpreter\n",
    "Processes whole programs at once                             Processes programs one instruction at a time\n",
    "Translates programs to binary machine code                   Execute by loading & translating instructions one by one on the fly\n",
    "Needed only once after the program is completed              Runs each time the program is executed\n",
    "Allows for detection of some errors prior to execution       All the errors are caught during execution\n",
    "Need not be present in RAM during execution                  Must be in RAM during a program's execution\n",
    "Compiled programs usually run faster                         Interpreted programs are usually slower\n",
    "```"
   ]
  },
  {
   "cell_type": "markdown",
   "id": "ebeeea2b",
   "metadata": {},
   "source": [
    "### 4. What is PEP8 and why is it important?\n",
    "PEP stands for **Python Enhancement Proposal**, and there are many PEPs. These documents primarily describe new features proposed for the Python language, but some PEPs also focus on design and style and aim to serve as a resource for the community. **PEP8** is one of these style-focused PEPs.\n",
    "\n",
    "**Read more -**\n",
    "https://realpython.com/python-pep8/#:~:text%20=PEP%208%2C%20sometimes%20spelled%20PEP8,and%20consistency%200f%20Python%20code"
   ]
  },
  {
   "cell_type": "markdown",
   "id": "141f27b5",
   "metadata": {},
   "source": [
    "**pythonic code**:\n",
    "You may encounter the term Pythonic when the Python community refers to code that follows the idiomatic writing style specific to Python. Pythonic code adheres to Python’s design principles and philosophy and emphasizes readability, simplicity, and clarity."
   ]
  },
  {
   "cell_type": "markdown",
   "id": "67e65b45",
   "metadata": {},
   "source": [
    "### 5. What are the common built-in data types in Python?\n",
    "There are several built-in data types in Python. Although, Python doesn't require data types to be defined explicitly during variable declarations type errors are likely to occur if the knowledge of data types and their compatibility with each other are neglected.\n",
    "Python provides `type()` and `isinstance()` functions to check the type of these variables. These data types can be grouped into the following categories\n",
    "1. None Type: None keywork represents the null values in Python. Boolean equality operation can be performed using these None Type objects.\n",
    "2. Numeric Type: There are three distinct numeric types - `integers`, `floating-point` numbers and complex numbers. Additionally, `booleans` are a sub-type of integers because boolean consider true as 1 and false as 0.\n",
    "3. Sequence Types: According to Python Docs, there are three basic Sequence Types - `lists`, `tuples`, and `range` objects.The `range` which we use in forloop is itself a data type. Sequence types have the `in` and `not in` operators defined for their traversing their elements. These operators share the same priority as the comparison operations.\n",
    "4. Mapping Types: A mapping object can map hashable values to random objects in Python. Mappings objects are mutable and there is currently only one standard mapping type, the `dictionary`.\n",
    "5. Set Types: Currently, Python has two built-in set types - `set` and `frozenset`. `set` type is mutable and supports methods like `add()` and `remove()`. `frozenset` type is immutable and can't be modified after creation.\n",
    "6. Callable Types: Callable types are the types to which function call can be applied. They can be user-defined functions, instance methods, generator functions, and some other **built-in functions, methods and classes**. Refer to the documentation at <a href = \"https://docs.python.org/3/reference/datamodel.html#callable-types\">docs.python.org</a> for a detailed view of the callable types."
   ]
  },
  {
   "cell_type": "markdown",
   "id": "dfdbfc1f",
   "metadata": {},
   "source": [
    "In python everything is an object including function classes, built-in methods, generator functions, instance methods"
   ]
  },
  {
   "cell_type": "markdown",
   "id": "d89925b3",
   "metadata": {},
   "source": [
    "### 6. Operator Precedence\n",
    "https://www.programiz.com/python-programming/precedence-associativity."
   ]
  },
  {
   "cell_type": "markdown",
   "id": "e8cdaafc",
   "metadata": {},
   "source": [
    "### 7. What Does the `is` Operator Do?\n",
    "**Identity operators**\n",
    "\n",
    "In Python, `is` and `is not` are used to check if two values are located on the same part of the memory. Two variables that are equal does not imply that they are identical.\n",
    "\n",
    "`is` operator check whether both variables are on same memory location or not. so there is a difference between equality `==` operator and `is` operator.\n",
    "if we save from ** -5 to 256 ** same values in two difference variables it'll be stored on the same memory locations and `is` operator will return `true` and if the value will be greater than `256` the answer will be `false`.\n",
    "\n",
    "Because these numbers are too common that's why python does this."
   ]
  },
  {
   "cell_type": "markdown",
   "id": "4ca48d35",
   "metadata": {},
   "source": [
    "### Q8: Disadvantages of Python.\n",
    "https://www.geeksforgeeks.org/disadvantages-of-python/"
   ]
  },
  {
   "cell_type": "markdown",
   "id": "3b03ec1b",
   "metadata": {},
   "source": [
    "### Q10 How strings are stored in Python?\n",
    "* https://stackoverflow.com/questions/19224059/how-strings-are-stored-in-python-memory-model\n",
    "* https://www.quora.com/How-are-strings-stored-internally-in-Python-3\n",
    "* https://betterprogramming.pub/an-interviewers-favorite-question-how-are-python-strings-stored-in-internal-memory-ac0eaef9d9c2"
   ]
  },
  {
   "cell_type": "markdown",
   "id": "a38fa5c0",
   "metadata": {},
   "source": [
    "### Q11 what is the `zen` of python\n",
    "The Zen of Python is a collection of 19 `guiding principles` for writing computer programs that influence the design of the Python programming language.\n",
    "\n",
    "https://inventwithpython.com/blog/2018/08/17/the-zen-of-python-explained/"
   ]
  },
  {
   "cell_type": "markdown",
   "id": "da5e424d",
   "metadata": {},
   "source": [
    "### Q12 Identity operator `(is)` vs `==` ？\n",
    "->> Here's the main difference between python \"==\" vs \"is:\"\n",
    "\n",
    "* **Identity operators:** The `is` and `is not` keywords are called identity operators that compare objects based on their identity. \n",
    "* **Equality operator:** The `==` and `!=` are called equality operators that compare the objects based on their values."
   ]
  },
  {
   "cell_type": "code",
   "execution_count": 3,
   "id": "e2294aaf",
   "metadata": {},
   "outputs": [
    {
     "name": "stdout",
     "output_type": "stream",
     "text": [
      "id of p 140175156249280\n",
      "Id of s 140175156249280\n",
      "id of q 140175147317504\n",
      "Comapare- s == q True\n",
      "Identity- s is q False\n",
      "Identity-s is p True\n",
      "Comapare- s == p True\n"
     ]
    }
   ],
   "source": [
    "# Case 4:\n",
    "# Here variable s is assigned a list,\n",
    "# and q assigned a list values same as s but on slicing of list a new list is generated\n",
    "s=[1, 2,3]\n",
    "p=s\n",
    "# cloning mean store the same thing at different memory location. \n",
    "q=s[:]\n",
    "print(\"id of p\", id(p))\n",
    "print(\"Id of s\", id(s))\n",
    "print (\"id of q\", id(q)) \n",
    "print (\"Comapare- s == q\",s==q)\n",
    "print(\"Identity- s is q\", s is q)\n",
    "print(\"Identity-s is p\", s is p)\n",
    "print (\"Comapare- s == p\", s==p)"
   ]
  },
  {
   "cell_type": "markdown",
   "id": "de70ee6a",
   "metadata": {},
   "source": [
    "### Q12: What does _ variables represent in Python?\n",
    "GssksForGeeks Article\n",
    "Underscore _ is considered as \"I don't Care\" or \"Throwaway\" variable in Python\n",
    "* The underscore _ is used for ignoring the specific values. If you don't need the specific values or the values are not used, just assign the values to underscore.\n",
    "* ** Ignore a value when unpacking\n",
    "* ** Ignore the index"
   ]
  },
  {
   "cell_type": "markdown",
   "id": "511d71e0",
   "metadata": {},
   "source": [
    "### Q13 Modules vs packages vs Library\n",
    "Python uses some terms that you may not be familiar with if you're coming from a different language. Among these are modules, packages, and libraries.\n",
    "* A module is a Python file that's intended to be imported into scripts or other modules. It often defines members like classes, functions, and variables intended to be used in other files that import it.\n",
    "* A package is a collection of related modules that work together to provide certain functionality. These modules are contained within a folder and can be imported just like any other modules. This folder will often contain a special `__init__` file that tells Python it's a package, potentially containing more modules nested within subfolders\n",
    "* A library is an umbrella term that loosely means \"**a bundle of code**.\" These can have tens or even hundreds of individual modules that can provide a wide range of functionality. Matplotlib is a plotting library. The Python Standard Library contains hundreds of modules for performing common tasks, like sending emails or reading JSON data. What's special about the Standard Library is that it comes bundled with your installation of Python, so you can use its modules without having to download them from anywhere.\n",
    "\n",
    "These are not strict definitions. Many people feel these terms are somewhat open to interpretation. Script and module are terms that you may hear used interchangeably.\n",
    "\n",
    "https://stackoverflow.com/questions/19198166/whats-the-difference-between-a-module-and-a-library-in-python\n",
    "\n",
    "https://www.geeksforgeeks.org/what-is-the-difference-between-pythons-module-package-and-library/"
   ]
  },
  {
   "cell_type": "markdown",
   "id": "01587815",
   "metadata": {},
   "source": [
    "### Q14 Why 0.3 - 0.2 is not equal to 0.1 in Python?\n",
    "\n",
    "The reason behind it is called \"**precision**\", and it's due to the fact that computers do not compute in Decimal, but in Binary.\n",
    "Computers do not use a base 10 system, they use a base 2 system (also called Binary code).\n",
    "That's the reason of gap of accuracy.\n",
    "\n",
    "https://www.geeksforgeeks.org/why-0-3-0-2-is-not-equal-to-0-1-in-python/"
   ]
  },
  {
   "cell_type": "markdown",
   "id": "a0ec747f",
   "metadata": {},
   "source": [
    "### Bitwise Operator"
   ]
  },
  {
   "cell_type": "markdown",
   "id": "b7aedd1a",
   "metadata": {},
   "source": [
    "https://realpython.com/python-bitwise-operators/"
   ]
  },
  {
   "cell_type": "markdown",
   "id": "de85fe4e",
   "metadata": {},
   "source": [
    "### Method vs Function Calling difference"
   ]
  },
  {
   "cell_type": "code",
   "execution_count": 4,
   "id": "4dfc76be",
   "metadata": {},
   "outputs": [
    {
     "data": {
      "text/plain": [
       "5"
      ]
     },
     "execution_count": 4,
     "metadata": {},
     "output_type": "execute_result"
    }
   ],
   "source": [
    "a = \"Hello\"\n",
    "len(a) #Function"
   ]
  },
  {
   "cell_type": "code",
   "execution_count": 5,
   "id": "f6652acc",
   "metadata": {},
   "outputs": [
    {
     "data": {
      "text/plain": [
       "False"
      ]
     },
     "execution_count": 5,
     "metadata": {},
     "output_type": "execute_result"
    }
   ],
   "source": [
    "a.isupper() #method"
   ]
  },
  {
   "cell_type": "code",
   "execution_count": 3,
   "id": "51284658",
   "metadata": {},
   "outputs": [
    {
     "data": {
      "text/plain": [
       "array([[0],\n",
       "       [1],\n",
       "       [2],\n",
       "       [3],\n",
       "       [4],\n",
       "       [5],\n",
       "       [6],\n",
       "       [7],\n",
       "       [8],\n",
       "       [9]])"
      ]
     },
     "execution_count": 3,
     "metadata": {},
     "output_type": "execute_result"
    }
   ],
   "source": [
    "import numpy as np\n",
    "np.arange(10).reshape(-1, 1)"
   ]
  },
  {
   "cell_type": "code",
   "execution_count": 4,
   "id": "b6987e55",
   "metadata": {},
   "outputs": [
    {
     "data": {
      "text/plain": [
       "array([0, 1, 2, 3, 4, 5, 6, 7, 8, 9])"
      ]
     },
     "execution_count": 4,
     "metadata": {},
     "output_type": "execute_result"
    }
   ],
   "source": [
    "np.arange(10)"
   ]
  },
  {
   "cell_type": "code",
   "execution_count": null,
   "id": "64d48afc",
   "metadata": {},
   "outputs": [],
   "source": []
  }
 ],
 "metadata": {
  "kernelspec": {
   "display_name": "Python 3 (ipykernel)",
   "language": "python",
   "name": "python3"
  },
  "language_info": {
   "codemirror_mode": {
    "name": "ipython",
    "version": 3
   },
   "file_extension": ".py",
   "mimetype": "text/x-python",
   "name": "python",
   "nbconvert_exporter": "python",
   "pygments_lexer": "ipython3",
   "version": "3.9.18"
  }
 },
 "nbformat": 4,
 "nbformat_minor": 5
}
