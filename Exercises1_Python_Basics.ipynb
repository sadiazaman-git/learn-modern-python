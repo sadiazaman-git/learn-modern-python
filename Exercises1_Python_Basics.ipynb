{
  "nbformat": 4,
  "nbformat_minor": 0,
  "metadata": {
    "colab": {
      "provenance": []
    },
    "kernelspec": {
      "name": "python3",
      "display_name": "Python 3"
    },
    "language_info": {
      "name": "python"
    }
  },
  "cells": [
    {
      "cell_type": "markdown",
      "source": [
        "# Task : Python Basics\n",
        "Solve these questions own your own and try to test yourself what you have learned in the session.\n",
        "\n",
        "Happy Learning!"
      ],
      "metadata": {
        "id": "A05OG15VqOPF"
      }
    },
    {
      "cell_type": "markdown",
      "source": [
        "### Q1 :- Print the given strings as per stated format.\n",
        "\n",
        "**Given strings**:\n",
        "```\n",
        "\"Data\" \"Science\" \"Mentorship\" \"Program\"\n",
        "```\n",
        "**Output**:\n",
        "```\n",
        "Data-Science-Mentorship-Program\n",
        "```\n",
        "\n",
        "Concept- [Seperator and End]"
      ],
      "metadata": {
        "id": "2doIXf8bqe9_"
      }
    },
    {
      "cell_type": "code",
      "source": [
        "# Write your code here\n",
        "data = '\"Data\" \"Science\" \"Mentorship\" \"Program\"'\n",
        "data = data.replace('\"','').replace(' ', '-')\n",
        "data"
      ],
      "metadata": {
        "id": "-em6d3KErDtp",
        "colab": {
          "base_uri": "https://localhost:8080/",
          "height": 35
        },
        "outputId": "544cdb4e-798e-4002-fba5-8f5284f7dbbc"
      },
      "execution_count": 1,
      "outputs": [
        {
          "output_type": "execute_result",
          "data": {
            "text/plain": [
              "'Data-Science-Mentorship-Program'"
            ],
            "application/vnd.google.colaboratory.intrinsic+json": {
              "type": "string"
            }
          },
          "metadata": {},
          "execution_count": 1
        }
      ]
    },
    {
      "cell_type": "markdown",
      "source": [
        "### Q2:- Write a program that will convert celsius value to fahrenheit."
      ],
      "metadata": {
        "id": "1KUpN7ZTrC3_"
      }
    },
    {
      "cell_type": "code",
      "source": [
        "# Write your code here\n",
        "C = int(input(\"Enter value in celsuis: \"))\n",
        "F = (9/5) * C +32\n",
        "print(f'Fahrenheit value is :  {F}')"
      ],
      "metadata": {
        "id": "yxKYhYQiqWfj",
        "colab": {
          "base_uri": "https://localhost:8080/"
        },
        "outputId": "e2461139-6015-482e-afaa-3953b4a93a79"
      },
      "execution_count": null,
      "outputs": [
        {
          "output_type": "stream",
          "name": "stdout",
          "text": [
            "Enter value in celsuis: 0\n",
            "Fahrenheit value is :  32.0\n"
          ]
        }
      ]
    },
    {
      "cell_type": "markdown",
      "source": [
        "### Q3:- Take 2 numbers as input from the user.Write a program to swap the numbers without using any special python syntax."
      ],
      "metadata": {
        "id": "RLrOBBJurLB2"
      }
    },
    {
      "cell_type": "code",
      "source": [
        "# Write your code here\n",
        "a = input('Enter first number ')\n",
        "b = input('Enter second number ')\n",
        "print(\"Before Swapping\")\n",
        "print(f'First number is: {a}')\n",
        "print(f'Second number is: {b}')\n",
        "c = a\n",
        "a = b\n",
        "b = c\n",
        "print(\"After Swapping\")\n",
        "print(f'First number is: {a}')\n",
        "print(f'Second number is: {b}')\n",
        "print(a, b)"
      ],
      "metadata": {
        "id": "yPn7if0TrJ4F",
        "colab": {
          "base_uri": "https://localhost:8080/"
        },
        "outputId": "ea64bb61-0141-454e-d047-9c25a4f18d4a"
      },
      "execution_count": null,
      "outputs": [
        {
          "output_type": "stream",
          "name": "stdout",
          "text": [
            "Enter first number 10\n",
            "Enter second number 20\n",
            "Before Swapping\n",
            "First number is: 10\n",
            "Second number is: 20\n",
            "After Swapping\n",
            "First number is: 20\n",
            "Second number is: 10\n",
            "20 10\n"
          ]
        }
      ]
    },
    {
      "cell_type": "code",
      "source": [
        "print(\"Before Swapping\")\n",
        "a = int(input('Enter first number '))\n",
        "b = int(input('Enter second number '))\n",
        "\n",
        "if a < b:\n",
        "  a, b = b, a%b\n",
        "else:\n",
        "  a, b = b%a, a\n",
        "\n",
        "\n",
        "print(\"After Swapping\")\n",
        "print(f'First number is: {a}')\n",
        "print(f'Second number is: {b}')"
      ],
      "metadata": {
        "colab": {
          "base_uri": "https://localhost:8080/"
        },
        "id": "6NbKe7QFWlXp",
        "outputId": "2210baac-f4ff-46fb-d93d-9fdffc3617c1"
      },
      "execution_count": null,
      "outputs": [
        {
          "output_type": "stream",
          "name": "stdout",
          "text": [
            "Before Swapping\n",
            "Enter first number 5\n",
            "Enter second number 3\n",
            "After Swapping\n",
            "First number is: 3\n",
            "Second number is: 5\n"
          ]
        }
      ]
    },
    {
      "cell_type": "markdown",
      "source": [
        "### Q4:- Write a program to find the euclidean distance between two coordinates.Take both the coordinates from the user as input."
      ],
      "metadata": {
        "id": "waLCP1bjr7ML"
      }
    },
    {
      "cell_type": "code",
      "source": [
        "\n",
        "#Take the values of First Coordinate\n",
        "x1 = int(input(\"Enter first point of first coordinate: \"))\n",
        "y1 = int(input(\"Enter second point of first coordinate: \"))\n",
        "\n",
        "#Take the values of second Coordinate\n",
        "x2 = int(input(\"Enter first point of second coordinate: \"))\n",
        "y2 = int(input(\"Enter second point of second coordinate: \"))\n",
        "\n",
        "#Calculate the euclidean distance between them\n",
        "\n",
        "def calculate_euclidean_distance(x1, x2, y1, y2):\n",
        "  result = ((x2 - x1)**2 + (y2 - y1)**2)**0.5\n",
        "  print(f'The euclidean distance between ({x1}, {y1}) and ({x2}, {y2}) is {result}')\n",
        "\n",
        "#call the funtion\n",
        "calculate_euclidean_distance(x1, x2, y1, y2)"
      ],
      "metadata": {
        "id": "Pl1Sv-xnrxnH",
        "colab": {
          "base_uri": "https://localhost:8080/"
        },
        "outputId": "f2ba0b4e-a677-4664-a45e-50a6658838f9"
      },
      "execution_count": null,
      "outputs": [
        {
          "output_type": "stream",
          "name": "stdout",
          "text": [
            "Enter first point of first coordinate: 2\n",
            "Enter second point of first coordinate: 3\n",
            "Enter first point of second coordinate: 5\n",
            "Enter second point of second coordinate: 7\n",
            "The euclidean distance between (2, 3) and (5, 7) is 5.0\n"
          ]
        }
      ]
    },
    {
      "cell_type": "markdown",
      "source": [
        "### Q5:- Write a program to find the simple interest when the value of principle,rate of interest and time period is provided by the user.\n"
      ],
      "metadata": {
        "id": "VLrhg-FRsHjR"
      }
    },
    {
      "cell_type": "code",
      "source": [
        "#take the input values for principle (initial investment), rate of interest and time period from the user\n",
        "\n",
        "principle = int(input(\"Enter the principle value: \"))\n",
        "rate_of_interest = int(input(\"Enter the rate of interest: \"))\n",
        "year = int(input(\"Enter the time period: \"))\n",
        "\n",
        "#calculate simple interest\n",
        "simple_interest = ( principle * rate_of_interest * year ) / 100\n",
        "print(f'Simple interest is {simple_interest}')"
      ],
      "metadata": {
        "id": "s40DlReZsTmY",
        "colab": {
          "base_uri": "https://localhost:8080/"
        },
        "outputId": "faaff905-b945-47d6-8f0f-614dd9f55eb2"
      },
      "execution_count": null,
      "outputs": [
        {
          "output_type": "stream",
          "name": "stdout",
          "text": [
            "Enter the principle value: 1000\n",
            "Enter the rate of interest: 5\n",
            "Enter the time period: 3\n",
            "Simple interest is 150.0\n"
          ]
        }
      ]
    },
    {
      "cell_type": "markdown",
      "source": [
        "### Q6:- Write a program that will tell the number of dogs and chicken are there when the user will provide the value of total heads and legs.\n",
        "\n",
        "For example:\n",
        "Input:\n",
        "heads -> 4\n",
        "legs -> 12\n",
        "<br>\n",
        "Output:\n",
        "dogs -> 2\n",
        "chicken -> 2\n",
        "\n",
        "\n",
        "\n"
      ],
      "metadata": {
        "id": "LMy0BTUktYKa"
      }
    },
    {
      "cell_type": "code",
      "source": [
        "# Write your code here\n",
        "heads = int(input(\"Enter the number of heads: \"))\n",
        "legs = int(input(\"Enter the number of legs: \"))\n",
        "\n",
        "dogs = legs/4\n",
        "gap = heads - dogs\n",
        "dogs = dogs - gap\n",
        "chicken = heads - dogs\n",
        "\n",
        "print(f'dogs -> {dogs}  chicken -> {chicken}')"
      ],
      "metadata": {
        "id": "XSBvJoA4tXaG",
        "colab": {
          "base_uri": "https://localhost:8080/"
        },
        "outputId": "47e4060b-32fa-4652-ae94-be32b2143ec3"
      },
      "execution_count": null,
      "outputs": [
        {
          "output_type": "stream",
          "name": "stdout",
          "text": [
            "Enter the number of heads: 4\n",
            "Enter the number of legs: 12\n",
            "dogs -> 2.0  chicken -> 2.0\n"
          ]
        }
      ]
    },
    {
      "cell_type": "markdown",
      "source": [
        "### Q7:- Write a program to find the sum of squares of first n natural numbers where n will be provided by the user."
      ],
      "metadata": {
        "id": "gJ7C5kZYt4BP"
      }
    },
    {
      "cell_type": "code",
      "source": [
        "# Write your code here\n",
        "number = int(input(\"Enter your number: \"))\n",
        "\n",
        "sum = 0\n",
        "\n",
        "while number > 0:\n",
        "  sum += (number * number)\n",
        "  number -=  1\n",
        "print(sum)"
      ],
      "metadata": {
        "id": "_tHsmEHzt2nX",
        "colab": {
          "base_uri": "https://localhost:8080/"
        },
        "outputId": "0a623c3e-1bff-458a-a59f-f502cfb1219a"
      },
      "execution_count": null,
      "outputs": [
        {
          "output_type": "stream",
          "name": "stdout",
          "text": [
            "Enter your number: 3\n",
            "14\n"
          ]
        }
      ]
    },
    {
      "cell_type": "code",
      "source": [
        "# Write your code here\n",
        "#Sum of squares= n(n+1)⋅(2n+1) /6\n",
        "n = int(input(\"Enter your number: \"))\n",
        "sum = n * (n + 1) * (2 * n + 1) / 6\n",
        "print(sum)"
      ],
      "metadata": {
        "colab": {
          "base_uri": "https://localhost:8080/"
        },
        "id": "VgX51Q-OXJJK",
        "outputId": "b34f0171-d53f-4121-8f1f-88befe0f056f"
      },
      "execution_count": null,
      "outputs": [
        {
          "output_type": "stream",
          "name": "stdout",
          "text": [
            "Enter your number: 3\n",
            "14.0\n"
          ]
        }
      ]
    },
    {
      "cell_type": "markdown",
      "source": [
        "### Q8:- Given the first 2 terms of an Arithmetic Series.Find the Nth term of the series. Assume all inputs are provided by the user."
      ],
      "metadata": {
        "id": "FHrMM7g-yG1h"
      }
    },
    {
      "cell_type": "code",
      "source": [
        "# Write your code here\n",
        "fterm = int(input(\"Enter your first term: \"))\n",
        "sterm = int(input(\"Enter your second term: \"))\n",
        "N = int(input(\"Enter the position of the term you want to find (N): \"))\n",
        "\n",
        "diff = sterm - fterm\n",
        "\n",
        "nth_term = fterm + (N - 1) * diff\n",
        "print (nth_term)\n"
      ],
      "metadata": {
        "id": "go4_kmZmyVSx",
        "colab": {
          "base_uri": "https://localhost:8080/"
        },
        "outputId": "39bae8cf-57fa-4827-b4e6-7c56f3ba1cc2"
      },
      "execution_count": null,
      "outputs": [
        {
          "output_type": "stream",
          "name": "stdout",
          "text": [
            "Enter your first term: 1\n",
            "Enter your second term: 7\n",
            "Enter the position of the term you want to find (N): 3\n",
            "13\n"
          ]
        }
      ]
    },
    {
      "cell_type": "markdown",
      "source": [
        "### Q9:- Given 2 fractions, find the sum of those 2 fractions.Take the numerator and denominator values of the fractions from the user."
      ],
      "metadata": {
        "id": "QgyRX_es1oum"
      }
    },
    {
      "cell_type": "code",
      "source": [
        "# Write your code here\n",
        "# Get user input for the first fraction\n",
        "numerator1 = int(input(\"Enter the numerator of the first fraction: \"))\n",
        "denominator1 = int(input(\"Enter the denominator of the first fraction: \"))\n",
        "\n",
        "# Get user input for the second fraction\n",
        "numerator2 = int(input(\"Enter the numerator of the second fraction: \"))\n",
        "denominator2 = int(input(\"Enter the denominator of the second fraction: \"))\n",
        "\n",
        "def find_gcd(den1, den2):\n",
        "  while den2 != 0:\n",
        "    den1, den2 = den2, den1 % den2\n",
        "  return den1\n",
        "\n",
        "def find_lcm(den1, den2):\n",
        "  common_deno = (den1 * den2)/ find_gcd(den1, den2)\n",
        "  return common_deno\n",
        "\n",
        "def calculate_fraction(num1, num2, den1, den2):\n",
        "  common_deno = find_lcm(den1, den2)\n",
        "  new_num1 = num1 * (common_deno / den1)\n",
        "  new_num2 = num2 * (common_deno / den2)\n",
        "  result = new_num1 + new_num2\n",
        "  print(f'The Sum of these {num1}/{den1} and {num2}/{den2} is {int(result)}/{int(common_deno)}')\n",
        "\n",
        "calculate_fraction(numerator1, numerator2, denominator1, denominator2)"
      ],
      "metadata": {
        "id": "X05xqFS1yW16",
        "colab": {
          "base_uri": "https://localhost:8080/"
        },
        "outputId": "cd71026a-a18c-4f69-9d6a-b5224a8b66ec"
      },
      "execution_count": null,
      "outputs": [
        {
          "output_type": "stream",
          "name": "stdout",
          "text": [
            "Enter the numerator of the first fraction: 8\n",
            "Enter the denominator of the first fraction: 4\n",
            "Enter the numerator of the second fraction: 3\n",
            "Enter the denominator of the second fraction: 18\n",
            "The Sum of these 8/4 and 3/18 is 78/36\n"
          ]
        }
      ]
    },
    {
      "cell_type": "markdown",
      "source": [
        "### Q10:- Given the height, width and breadth of a milk tank, you have to find out how many glasses of milk can be obtained? Assume all the inputs are provided by the user.\n",
        "\n",
        "\n",
        "\n",
        "Input:<br>\n",
        "Dimensions of the milk tank<br>\n",
        "H = 20cm, L = 20cm, B = 20cm\n",
        "<br><br>\n",
        "Dimensions of the glass<br>\n",
        "h = 3cm, r = 1cm"
      ],
      "metadata": {
        "id": "eaql38ln13u7"
      }
    },
    {
      "cell_type": "code",
      "source": [
        "#Dimensions of the milk tank\n",
        "H = 20\n",
        "L = 20\n",
        "B = 20\n",
        "\n",
        "#Dimentions of the glass\n",
        "h = 3\n",
        "r = 1\n",
        "\n",
        "pi = 3.14\n",
        "# Calculate the volumn of both tank and glass first\n",
        "\n",
        "tank_vol = pi * (r**2) * H\n",
        "glass_vol = pi * (r**2) * h\n",
        "\n",
        "#number of glass\n",
        "glass = tank_vol / glass_vol\n",
        "\n",
        "print(glass)\n"
      ],
      "metadata": {
        "id": "FePZqno74eWv",
        "colab": {
          "base_uri": "https://localhost:8080/"
        },
        "outputId": "f2c159e6-412c-4f3b-d4ca-251f2a63335a"
      },
      "execution_count": null,
      "outputs": [
        {
          "output_type": "stream",
          "name": "stdout",
          "text": [
            "6.666666666666667\n"
          ]
        }
      ]
    }
  ]
}