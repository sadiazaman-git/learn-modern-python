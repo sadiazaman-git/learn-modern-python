{
 "cells": [
  {
   "cell_type": "markdown",
   "metadata": {},
   "source": [
    "## Dictionary\n",
    "\n",
    "* key:value (items)\n",
    "    * key replacement of indexes\n",
    "    * value item\n",
    "* dict_variable[key]\n",
    "    * dict_variable[new_key] = new_value\n",
    "        * add new value\n",
    "        * update value"
   ]
  },
  {
   "cell_type": "code",
   "execution_count": 2,
   "metadata": {},
   "outputs": [
    {
     "name": "stdout",
     "output_type": "stream",
     "text": [
      "{'education': 'BSIT', 'fname': 'Sadia', 'lname': 'Parveen'}\n"
     ]
    }
   ],
   "source": [
    "from typing import Dict\n",
    "import pprint\n",
    "\n",
    "# List                    0                1            2\n",
    "data : Dict[str,str] = {\n",
    "                        \"fname\":\"Sadia\",\n",
    "                        \"lname\":\"Parveen\",\n",
    "                        \"education\": \"BSIT\"\n",
    "                        }\n",
    "\n",
    "pprint.pprint(data)"
   ]
  },
  {
   "cell_type": "code",
   "execution_count": 5,
   "metadata": {},
   "outputs": [
    {
     "name": "stdout",
     "output_type": "stream",
     "text": [
      "{'education': 'BSIT', 'fname': 'Sadia', 'lname': 'Parveen'}\n",
      "Sadia\n",
      "Parveen\n",
      "BSIT\n"
     ]
    }
   ],
   "source": [
    "from typing import Dict, Union, Optional\n",
    "\n",
    "Key = Union[int,str] # create custom type\n",
    "Value = Union[int, str, list, dict, tuple, set]\n",
    "\n",
    "data: Dict[Key, Value] = {\n",
    "                        \"fname\":\"Sadia\",\n",
    "                        \"lname\":\"Parveen\",\n",
    "                        \"education\": \"BSIT\"\n",
    "                        }\n",
    "pprint.pprint(data)\n",
    "print(data[\"fname\"])\n",
    "print(data['lname'])\n",
    "print(data['education'])"
   ]
  },
  {
   "cell_type": "code",
   "execution_count": 8,
   "metadata": {},
   "outputs": [
    {
     "name": "stdout",
     "output_type": "stream",
     "text": [
      "{0: 'Pakistan', 'education': 'BSIT', 'fname': 'Sadia', 'lname': 'Parveen'}\n",
      "Sadia\n",
      "Parveen\n",
      "BSIT\n",
      "Pakistan\n"
     ]
    }
   ],
   "source": [
    "data : Dict[Key,Value] = {\n",
    "                        \"fname\":\"Sadia\",\n",
    "                        \"lname\":\"Parveen\",\n",
    "                        \"education\": \"BSIT\",\n",
    "                        0 : \"Pakistan\"\n",
    "                        }\n",
    "\n",
    "pprint.pprint(data)\n",
    "print(data[\"fname\"])\n",
    "print(data['lname'])\n",
    "print(data['education'])\n",
    "print(data[0]) # index = key"
   ]
  },
  {
   "cell_type": "code",
   "execution_count": 11,
   "metadata": {},
   "outputs": [
    {
     "ename": "TypeError",
     "evalue": "unhashable type: 'set'",
     "output_type": "error",
     "traceback": [
      "\u001b[0;31m---------------------------------------------------------------------------\u001b[0m",
      "\u001b[0;31mTypeError\u001b[0m                                 Traceback (most recent call last)",
      "\u001b[1;32m/Users/sadiazaman/Documents/Generative_AI_Core/LearnModernPython/06_Dictionary/class05.ipynb Cell 5\u001b[0m line \u001b[0;36m1\n\u001b[0;32m----> <a href='vscode-notebook-cell:/Users/sadiazaman/Documents/Generative_AI_Core/LearnModernPython/06_Dictionary/class05.ipynb#W4sZmlsZQ%3D%3D?line=0'>1</a>\u001b[0m data : Dict[Key,Value] \u001b[39m=\u001b[39m {\n\u001b[1;32m      <a href='vscode-notebook-cell:/Users/sadiazaman/Documents/Generative_AI_Core/LearnModernPython/06_Dictionary/class05.ipynb#W4sZmlsZQ%3D%3D?line=1'>2</a>\u001b[0m                         \u001b[39m\"\u001b[39m\u001b[39mfname\u001b[39m\u001b[39m\"\u001b[39m:\u001b[39m\"\u001b[39m\u001b[39mSadia\u001b[39m\u001b[39m\"\u001b[39m,\n\u001b[1;32m      <a href='vscode-notebook-cell:/Users/sadiazaman/Documents/Generative_AI_Core/LearnModernPython/06_Dictionary/class05.ipynb#W4sZmlsZQ%3D%3D?line=2'>3</a>\u001b[0m                         \u001b[39m\"\u001b[39m\u001b[39mlname\u001b[39m\u001b[39m\"\u001b[39m:\u001b[39m\"\u001b[39m\u001b[39mParveen\u001b[39m\u001b[39m\"\u001b[39m,\n\u001b[1;32m      <a href='vscode-notebook-cell:/Users/sadiazaman/Documents/Generative_AI_Core/LearnModernPython/06_Dictionary/class05.ipynb#W4sZmlsZQ%3D%3D?line=3'>4</a>\u001b[0m                         \u001b[39m\"\u001b[39m\u001b[39meducation\u001b[39m\u001b[39m\"\u001b[39m: \u001b[39m\"\u001b[39m\u001b[39mBSIT\u001b[39m\u001b[39m\"\u001b[39m,\n\u001b[1;32m      <a href='vscode-notebook-cell:/Users/sadiazaman/Documents/Generative_AI_Core/LearnModernPython/06_Dictionary/class05.ipynb#W4sZmlsZQ%3D%3D?line=4'>5</a>\u001b[0m                         {\u001b[39m1\u001b[39m,\u001b[39m2\u001b[39m,\u001b[39m3\u001b[39m} : \u001b[39m\"\u001b[39m\u001b[39mPakistan\u001b[39m\u001b[39m\"\u001b[39m\n\u001b[1;32m      <a href='vscode-notebook-cell:/Users/sadiazaman/Documents/Generative_AI_Core/LearnModernPython/06_Dictionary/class05.ipynb#W4sZmlsZQ%3D%3D?line=5'>6</a>\u001b[0m                         }\n\u001b[1;32m      <a href='vscode-notebook-cell:/Users/sadiazaman/Documents/Generative_AI_Core/LearnModernPython/06_Dictionary/class05.ipynb#W4sZmlsZQ%3D%3D?line=7'>8</a>\u001b[0m pprint\u001b[39m.\u001b[39mpprint(data)\n\u001b[1;32m      <a href='vscode-notebook-cell:/Users/sadiazaman/Documents/Generative_AI_Core/LearnModernPython/06_Dictionary/class05.ipynb#W4sZmlsZQ%3D%3D?line=8'>9</a>\u001b[0m \u001b[39mprint\u001b[39m(data[\u001b[39m\"\u001b[39m\u001b[39mfname\u001b[39m\u001b[39m\"\u001b[39m])\n",
      "\u001b[0;31mTypeError\u001b[0m: unhashable type: 'set'"
     ]
    }
   ],
   "source": [
    "data : Dict[Key,Value] = {\n",
    "                        \"fname\":\"Sadia\",\n",
    "                        \"lname\":\"Parveen\",\n",
    "                        \"education\": \"BSIT\",\n",
    "                        {1,2,3} : \"Pakistan\"\n",
    "                        }\n",
    "\n",
    "pprint.pprint(data)\n",
    "print(data[\"fname\"])\n",
    "print(data['lname'])\n",
    "print(data['education'])\n",
    "# print(data[0]) # index = key"
   ]
  },
  {
   "cell_type": "code",
   "execution_count": 12,
   "metadata": {},
   "outputs": [
    {
     "data": {
      "text/plain": [
       "['__class__',\n",
       " '__class_getitem__',\n",
       " '__contains__',\n",
       " '__delattr__',\n",
       " '__delitem__',\n",
       " '__dir__',\n",
       " '__doc__',\n",
       " '__eq__',\n",
       " '__format__',\n",
       " '__ge__',\n",
       " '__getattribute__',\n",
       " '__getitem__',\n",
       " '__getstate__',\n",
       " '__gt__',\n",
       " '__hash__',\n",
       " '__init__',\n",
       " '__init_subclass__',\n",
       " '__ior__',\n",
       " '__iter__',\n",
       " '__le__',\n",
       " '__len__',\n",
       " '__lt__',\n",
       " '__ne__',\n",
       " '__new__',\n",
       " '__or__',\n",
       " '__reduce__',\n",
       " '__reduce_ex__',\n",
       " '__repr__',\n",
       " '__reversed__',\n",
       " '__ror__',\n",
       " '__setattr__',\n",
       " '__setitem__',\n",
       " '__sizeof__',\n",
       " '__str__',\n",
       " '__subclasshook__',\n",
       " 'clear',\n",
       " 'copy',\n",
       " 'fromkeys',\n",
       " 'get',\n",
       " 'items',\n",
       " 'keys',\n",
       " 'pop',\n",
       " 'popitem',\n",
       " 'setdefault',\n",
       " 'update',\n",
       " 'values']"
      ]
     },
     "execution_count": 12,
     "metadata": {},
     "output_type": "execute_result"
    }
   ],
   "source": [
    "dir(data)"
   ]
  },
  {
   "cell_type": "code",
   "execution_count": 14,
   "metadata": {},
   "outputs": [
    {
     "data": {
      "text/plain": [
       "['clear',\n",
       " 'copy',\n",
       " 'fromkeys',\n",
       " 'get',\n",
       " 'items',\n",
       " 'keys',\n",
       " 'pop',\n",
       " 'popitem',\n",
       " 'setdefault',\n",
       " 'update',\n",
       " 'values']"
      ]
     },
     "execution_count": 14,
     "metadata": {},
     "output_type": "execute_result"
    }
   ],
   "source": [
    "[i for i in dir(data) if \"__\" not in i]"
   ]
  },
  {
   "cell_type": "code",
   "execution_count": 15,
   "metadata": {},
   "outputs": [
    {
     "name": "stdout",
     "output_type": "stream",
     "text": [
      "dict_keys(['fname', 'lname', 'education', 0])\n",
      "dict_values(['Sadia', 'Parveen', 'BSIT', 'Pakistan'])\n",
      "dict_items([('fname', 'Sadia'), ('lname', 'Parveen'), ('education', 'BSIT'), (0, 'Pakistan')])\n"
     ]
    }
   ],
   "source": [
    "print(data.keys()) # keys\n",
    "print(data.values()) # values\n",
    "print(data.items())"
   ]
  },
  {
   "cell_type": "code",
   "execution_count": 17,
   "metadata": {},
   "outputs": [
    {
     "name": "stdout",
     "output_type": "stream",
     "text": [
      "NA\n",
      "Sadia\n"
     ]
    }
   ],
   "source": [
    "#                 key\n",
    "print(data.get('pakistan',\"NA\"))\n",
    "print(data.get('fname',\"NA\"))"
   ]
  },
  {
   "cell_type": "code",
   "execution_count": null,
   "metadata": {},
   "outputs": [],
   "source": []
  }
 ],
 "metadata": {
  "kernelspec": {
   "display_name": "py12",
   "language": "python",
   "name": "python3"
  },
  "language_info": {
   "codemirror_mode": {
    "name": "ipython",
    "version": 3
   },
   "file_extension": ".py",
   "mimetype": "text/x-python",
   "name": "python",
   "nbconvert_exporter": "python",
   "pygments_lexer": "ipython3",
   "version": "3.12.0"
  }
 },
 "nbformat": 4,
 "nbformat_minor": 2
}
